{
 "cells": [
  {
   "cell_type": "code",
   "execution_count": 1,
   "metadata": {},
   "outputs": [],
   "source": [
    "import os\n",
    "from tqdm import tqdm\n",
    "import pandas as pd\n",
    "import xml.etree.ElementTree as ET\n",
    "import numpy as np\n",
    "import cv2\n",
    "from sklearn.preprocessing import LabelBinarizer\n",
    "from sklearn.model_selection import train_test_split\n",
    "from tensorflow.keras.optimizers import Adam, RMSprop\n",
    "import tensorflow as tf\n",
    "\n",
    "import sys\n",
    "\n",
    "sys.path.append(\"../\")\n",
    "from obj_detection import model"
   ]
  },
  {
   "cell_type": "code",
   "execution_count": 2,
   "metadata": {},
   "outputs": [
    {
     "name": "stdout",
     "output_type": "stream",
     "text": [
      "GPU is NOT available\n"
     ]
    }
   ],
   "source": [
    "print(\n",
    "    \"GPU is available\" if tf.test.gpu_device_name() else \"GPU is NOT available\"\n",
    ")\n",
    "if tf.test.gpu_device_name():\n",
    "    physical_devices = tf.config.list_physical_devices(\"GPU\")\n",
    "    tf.config.experimental.set_memory_growth(physical_devices[0], True)"
   ]
  },
  {
   "cell_type": "code",
   "execution_count": 3,
   "metadata": {},
   "outputs": [],
   "source": [
    "annotations_path = \"../data/annotations/\"\n",
    "images_path = \"../data/images/\""
   ]
  },
  {
   "cell_type": "code",
   "execution_count": 4,
   "metadata": {},
   "outputs": [],
   "source": [
    "annotations = os.listdir(annotations_path)\n",
    "images = os.listdir(images_path)"
   ]
  },
  {
   "cell_type": "code",
   "execution_count": 5,
   "metadata": {},
   "outputs": [],
   "source": [
    "img_name_list = []\n",
    "width_list = []\n",
    "height_list = []\n",
    "label_list = []\n",
    "x_list = []\n",
    "y_list = []\n",
    "w_list = []\n",
    "h_list = []"
   ]
  },
  {
   "cell_type": "code",
   "execution_count": 6,
   "metadata": {},
   "outputs": [
    {
     "name": "stderr",
     "output_type": "stream",
     "text": [
      "100%|██████████| 877/877 [00:00<00:00, 7312.82it/s]\n"
     ]
    }
   ],
   "source": [
    "for i in tqdm(range(len(annotations))):\n",
    "    tree = ET.parse(os.path.join(annotations_path, annotations[i]))\n",
    "    root = tree.getroot()\n",
    "    img_name = root.find(\"filename\").text\n",
    "\n",
    "    size = root.find(\"size\")\n",
    "    width = int(size.find(\"width\").text)\n",
    "    height = int(size.find(\"height\").text)\n",
    "\n",
    "    for group in root.findall(\"object\"):\n",
    "        label = group.find(\"name\").text\n",
    "        bbox = group.find(\"bndbox\")\n",
    "        xmin = int(bbox.find(\"xmin\").text)\n",
    "        ymin = int(bbox.find(\"ymin\").text)\n",
    "        xmax = int(bbox.find(\"xmax\").text)\n",
    "        ymax = int(bbox.find(\"ymax\").text)\n",
    "        x = int((xmin + xmax) / 2)\n",
    "        y = int((ymin + ymax) / 2)\n",
    "        w = abs(xmax - xmin)\n",
    "        h = abs(ymax - ymin)\n",
    "\n",
    "        img_name_list.append(img_name)\n",
    "        width_list.append(width)\n",
    "        height_list.append(height)\n",
    "        x_list.append(x)\n",
    "        y_list.append(y)\n",
    "        w_list.append(w)\n",
    "        h_list.append(h)\n",
    "        label_list.append(label)"
   ]
  },
  {
   "cell_type": "code",
   "execution_count": 7,
   "metadata": {},
   "outputs": [
    {
     "data": {
      "text/html": [
       "<div>\n",
       "<style scoped>\n",
       "    .dataframe tbody tr th:only-of-type {\n",
       "        vertical-align: middle;\n",
       "    }\n",
       "\n",
       "    .dataframe tbody tr th {\n",
       "        vertical-align: top;\n",
       "    }\n",
       "\n",
       "    .dataframe thead th {\n",
       "        text-align: right;\n",
       "    }\n",
       "</style>\n",
       "<table border=\"1\" class=\"dataframe\">\n",
       "  <thead>\n",
       "    <tr style=\"text-align: right;\">\n",
       "      <th></th>\n",
       "      <th>img_name</th>\n",
       "      <th>width</th>\n",
       "      <th>height</th>\n",
       "      <th>x</th>\n",
       "      <th>y</th>\n",
       "      <th>w</th>\n",
       "      <th>h</th>\n",
       "      <th>label</th>\n",
       "    </tr>\n",
       "  </thead>\n",
       "  <tbody>\n",
       "    <tr>\n",
       "      <th>0</th>\n",
       "      <td>road0.png</td>\n",
       "      <td>267</td>\n",
       "      <td>400</td>\n",
       "      <td>153</td>\n",
       "      <td>147</td>\n",
       "      <td>110</td>\n",
       "      <td>170</td>\n",
       "      <td>trafficlight</td>\n",
       "    </tr>\n",
       "    <tr>\n",
       "      <th>1</th>\n",
       "      <td>road1.png</td>\n",
       "      <td>400</td>\n",
       "      <td>283</td>\n",
       "      <td>206</td>\n",
       "      <td>172</td>\n",
       "      <td>104</td>\n",
       "      <td>218</td>\n",
       "      <td>trafficlight</td>\n",
       "    </tr>\n",
       "    <tr>\n",
       "      <th>2</th>\n",
       "      <td>road10.png</td>\n",
       "      <td>400</td>\n",
       "      <td>267</td>\n",
       "      <td>175</td>\n",
       "      <td>133</td>\n",
       "      <td>138</td>\n",
       "      <td>260</td>\n",
       "      <td>trafficlight</td>\n",
       "    </tr>\n",
       "    <tr>\n",
       "      <th>3</th>\n",
       "      <td>road100.png</td>\n",
       "      <td>400</td>\n",
       "      <td>385</td>\n",
       "      <td>199</td>\n",
       "      <td>165</td>\n",
       "      <td>328</td>\n",
       "      <td>321</td>\n",
       "      <td>speedlimit</td>\n",
       "    </tr>\n",
       "    <tr>\n",
       "      <th>4</th>\n",
       "      <td>road101.png</td>\n",
       "      <td>400</td>\n",
       "      <td>200</td>\n",
       "      <td>293</td>\n",
       "      <td>100</td>\n",
       "      <td>197</td>\n",
       "      <td>187</td>\n",
       "      <td>speedlimit</td>\n",
       "    </tr>\n",
       "  </tbody>\n",
       "</table>\n",
       "</div>"
      ],
      "text/plain": [
       "      img_name  width  height    x    y    w    h         label\n",
       "0    road0.png    267     400  153  147  110  170  trafficlight\n",
       "1    road1.png    400     283  206  172  104  218  trafficlight\n",
       "2   road10.png    400     267  175  133  138  260  trafficlight\n",
       "3  road100.png    400     385  199  165  328  321    speedlimit\n",
       "4  road101.png    400     200  293  100  197  187    speedlimit"
      ]
     },
     "execution_count": 7,
     "metadata": {},
     "output_type": "execute_result"
    }
   ],
   "source": [
    "dataset = pd.DataFrame(\n",
    "    {\n",
    "        \"img_name\": img_name_list,\n",
    "        \"width\": width_list,\n",
    "        \"height\": height_list,\n",
    "        \"x\": x_list,\n",
    "        \"y\": y_list,\n",
    "        \"w\": w_list,\n",
    "        \"h\": h_list,\n",
    "        \"label\": label_list,\n",
    "    }\n",
    ")\n",
    "dataset.head()"
   ]
  },
  {
   "cell_type": "code",
   "execution_count": 8,
   "metadata": {},
   "outputs": [
    {
     "data": {
      "text/plain": [
       "['trafficlight', 'speedlimit', 'crosswalk', 'stop']"
      ]
     },
     "execution_count": 8,
     "metadata": {},
     "output_type": "execute_result"
    }
   ],
   "source": [
    "classes = dataset[\"label\"].unique().tolist()\n",
    "classes"
   ]
  },
  {
   "cell_type": "code",
   "execution_count": 9,
   "metadata": {},
   "outputs": [],
   "source": [
    "label_encoder = LabelBinarizer()"
   ]
  },
  {
   "cell_type": "code",
   "execution_count": 10,
   "metadata": {},
   "outputs": [],
   "source": [
    "images = []\n",
    "labels = []\n",
    "bboxes = []\n",
    "for index, row in dataset.iterrows():\n",
    "    img_path = os.path.join(images_path, row[\"img_name\"])\n",
    "    img = cv2.imread(img_path)\n",
    "    x_scale = 224.0 / int(row[\"width\"])\n",
    "    y_scale = 224.0 / int(row[\"height\"])\n",
    "    img = cv2.resize(img, (224, 224))\n",
    "    images.append(img)\n",
    "\n",
    "    x = int(row[\"x\"] * x_scale) / 224.0\n",
    "    y = int(row[\"y\"] * y_scale) / 224.0\n",
    "    w = int(row[\"w\"] * x_scale) / 224.0\n",
    "    h = int(row[\"h\"] * y_scale) / 224.0\n",
    "    bboxes.append((x, y, w, h))\n",
    "    labels.append(row[\"label\"])"
   ]
  },
  {
   "cell_type": "code",
   "execution_count": 11,
   "metadata": {},
   "outputs": [],
   "source": [
    "images = np.array(images, dtype=\"float32\") / 255.0\n",
    "labels = np.array(labels)\n",
    "bboxes = np.array(bboxes, dtype=\"float32\")\n",
    "labels = label_encoder.fit_transform(labels)"
   ]
  },
  {
   "cell_type": "code",
   "execution_count": 12,
   "metadata": {},
   "outputs": [
    {
     "data": {
      "text/plain": [
       "array([[0, 0, 0, 1],\n",
       "       [0, 0, 0, 1],\n",
       "       [0, 0, 0, 1],\n",
       "       ...,\n",
       "       [0, 0, 1, 0],\n",
       "       [0, 0, 1, 0],\n",
       "       [0, 0, 1, 0]])"
      ]
     },
     "execution_count": 12,
     "metadata": {},
     "output_type": "execute_result"
    }
   ],
   "source": [
    "labels"
   ]
  },
  {
   "cell_type": "code",
   "execution_count": 13,
   "metadata": {},
   "outputs": [],
   "source": [
    "(\n",
    "    train_images,\n",
    "    val_images,\n",
    "    train_bboxes,\n",
    "    val_bboxes,\n",
    "    train_labels,\n",
    "    val_labels,\n",
    ") = train_test_split(images, bboxes, labels, test_size=0.20, random_state=12)"
   ]
  },
  {
   "cell_type": "code",
   "execution_count": 14,
   "metadata": {},
   "outputs": [],
   "source": [
    "losses = {\n",
    "    \"class_label\": \"categorical_crossentropy\",\n",
    "    \"bounding_box\": \"mean_squared_error\",\n",
    "}\n",
    "\n",
    "train_targets = {\n",
    "    \"class_label\": train_labels,\n",
    "    \"bounding_box\": train_bboxes,\n",
    "}\n",
    "\n",
    "val_targets = {\n",
    "    \"class_label\": val_labels,\n",
    "    \"bounding_box\": val_bboxes,\n",
    "}"
   ]
  },
  {
   "cell_type": "code",
   "execution_count": 15,
   "metadata": {},
   "outputs": [],
   "source": [
    "base_learning_rate = 0.00015\n",
    "\n",
    "# opt = RMSprop(learning_rate=base_learning_rate)\n",
    "opt = Adam(base_learning_rate)"
   ]
  },
  {
   "cell_type": "code",
   "execution_count": 16,
   "metadata": {},
   "outputs": [
    {
     "name": "stdout",
     "output_type": "stream",
     "text": [
      "Model: \"model\"\n",
      "__________________________________________________________________________________________________\n",
      " Layer (type)                   Output Shape         Param #     Connected to                     \n",
      "==================================================================================================\n",
      " input_images (InputLayer)      [(None, 224, 224, 3  0           []                               \n",
      "                                )]                                                                \n",
      "                                                                                                  \n",
      " block1_conv1 (Conv2D)          (None, 224, 224, 64  1792        ['input_images[0][0]']           \n",
      "                                )                                                                 \n",
      "                                                                                                  \n",
      " block1_conv2 (Conv2D)          (None, 224, 224, 64  36928       ['block1_conv1[0][0]']           \n",
      "                                )                                                                 \n",
      "                                                                                                  \n",
      " block1_pool (MaxPooling2D)     (None, 112, 112, 64  0           ['block1_conv2[0][0]']           \n",
      "                                )                                                                 \n",
      "                                                                                                  \n",
      " block2_conv1 (Conv2D)          (None, 112, 112, 12  73856       ['block1_pool[0][0]']            \n",
      "                                8)                                                                \n",
      "                                                                                                  \n",
      " block2_conv2 (Conv2D)          (None, 112, 112, 12  147584      ['block2_conv1[0][0]']           \n",
      "                                8)                                                                \n",
      "                                                                                                  \n",
      " block2_pool (MaxPooling2D)     (None, 56, 56, 128)  0           ['block2_conv2[0][0]']           \n",
      "                                                                                                  \n",
      " block3_conv1 (Conv2D)          (None, 56, 56, 256)  295168      ['block2_pool[0][0]']            \n",
      "                                                                                                  \n",
      " block3_conv2 (Conv2D)          (None, 56, 56, 256)  590080      ['block3_conv1[0][0]']           \n",
      "                                                                                                  \n",
      " block3_conv3 (Conv2D)          (None, 56, 56, 256)  590080      ['block3_conv2[0][0]']           \n",
      "                                                                                                  \n",
      " block3_pool (MaxPooling2D)     (None, 28, 28, 256)  0           ['block3_conv3[0][0]']           \n",
      "                                                                                                  \n",
      " block4_conv1 (Conv2D)          (None, 28, 28, 512)  1180160     ['block3_pool[0][0]']            \n",
      "                                                                                                  \n",
      " block4_conv2 (Conv2D)          (None, 28, 28, 512)  2359808     ['block4_conv1[0][0]']           \n",
      "                                                                                                  \n",
      " block4_conv3 (Conv2D)          (None, 28, 28, 512)  2359808     ['block4_conv2[0][0]']           \n",
      "                                                                                                  \n",
      " block4_pool (MaxPooling2D)     (None, 14, 14, 512)  0           ['block4_conv3[0][0]']           \n",
      "                                                                                                  \n",
      " block5_conv1 (Conv2D)          (None, 14, 14, 512)  2359808     ['block4_pool[0][0]']            \n",
      "                                                                                                  \n",
      " block5_conv2 (Conv2D)          (None, 14, 14, 512)  2359808     ['block5_conv1[0][0]']           \n",
      "                                                                                                  \n",
      " block5_conv3 (Conv2D)          (None, 14, 14, 512)  2359808     ['block5_conv2[0][0]']           \n",
      "                                                                                                  \n",
      " block5_pool (MaxPooling2D)     (None, 7, 7, 512)    0           ['block5_conv3[0][0]']           \n",
      "                                                                                                  \n",
      " flatten (Flatten)              (None, 25088)        0           ['block5_pool[0][0]']            \n",
      "                                                                                                  \n",
      " dense (Dense)                  (None, 128)          3211392     ['flatten[0][0]']                \n",
      "                                                                                                  \n",
      " dense_2 (Dense)                (None, 256)          6422784     ['flatten[0][0]']                \n",
      "                                                                                                  \n",
      " dense_1 (Dense)                (None, 64)           8256        ['dense[0][0]']                  \n",
      "                                                                                                  \n",
      " dense_3 (Dense)                (None, 128)          32896       ['dense_2[0][0]']                \n",
      "                                                                                                  \n",
      " bounding_box (Dense)           (None, 4)            260         ['dense_1[0][0]']                \n",
      "                                                                                                  \n",
      " class_label (Dense)            (None, 4)            516         ['dense_3[0][0]']                \n",
      "                                                                                                  \n",
      "==================================================================================================\n",
      "Total params: 24,390,792\n",
      "Trainable params: 9,676,104\n",
      "Non-trainable params: 14,714,688\n",
      "__________________________________________________________________________________________________\n"
     ]
    }
   ],
   "source": [
    "ssd = model.SSD_Model(\n",
    "    num_classes=len(classes),\n",
    "    input_size=(224, 224, 3),\n",
    "    optimizer=opt,\n",
    "    losses=losses,\n",
    ")"
   ]
  },
  {
   "cell_type": "code",
   "execution_count": 17,
   "metadata": {},
   "outputs": [
    {
     "name": "stdout",
     "output_type": "stream",
     "text": [
      "Epoch 1/15\n",
      "20/20 [==============================] - 62s 3s/step - loss: 0.9748 - bounding_box_loss: 0.0273 - class_label_loss: 0.9475 - bounding_box_accuracy: 0.5286 - class_label_accuracy: 0.6523 - val_loss: 0.6687 - val_bounding_box_loss: 0.0158 - val_class_label_loss: 0.6528 - val_bounding_box_accuracy: 0.5663 - val_class_label_accuracy: 0.7992\n",
      "Epoch 2/15\n",
      "20/20 [==============================] - 59s 3s/step - loss: 0.6122 - bounding_box_loss: 0.0119 - class_label_loss: 0.6004 - bounding_box_accuracy: 0.6643 - class_label_accuracy: 0.7769 - val_loss: 0.5717 - val_bounding_box_loss: 0.0112 - val_class_label_loss: 0.5605 - val_bounding_box_accuracy: 0.6707 - val_class_label_accuracy: 0.7791\n",
      "Epoch 3/15\n",
      "20/20 [==============================] - 68s 3s/step - loss: 0.4587 - bounding_box_loss: 0.0087 - class_label_loss: 0.4500 - bounding_box_accuracy: 0.7116 - class_label_accuracy: 0.8342 - val_loss: 0.5435 - val_bounding_box_loss: 0.0106 - val_class_label_loss: 0.5329 - val_bounding_box_accuracy: 0.6627 - val_class_label_accuracy: 0.8112\n",
      "Epoch 4/15\n",
      "20/20 [==============================] - 71s 4s/step - loss: 0.4014 - bounding_box_loss: 0.0075 - class_label_loss: 0.3939 - bounding_box_accuracy: 0.7497 - class_label_accuracy: 0.8372 - val_loss: 0.5656 - val_bounding_box_loss: 0.0101 - val_class_label_loss: 0.5555 - val_bounding_box_accuracy: 0.6948 - val_class_label_accuracy: 0.7912\n",
      "Epoch 5/15\n",
      "20/20 [==============================] - 70s 4s/step - loss: 0.3725 - bounding_box_loss: 0.0071 - class_label_loss: 0.3655 - bounding_box_accuracy: 0.7869 - class_label_accuracy: 0.8312 - val_loss: 0.5807 - val_bounding_box_loss: 0.0102 - val_class_label_loss: 0.5705 - val_bounding_box_accuracy: 0.6948 - val_class_label_accuracy: 0.8032\n",
      "Epoch 6/15\n",
      "20/20 [==============================] - 68s 3s/step - loss: 0.3318 - bounding_box_loss: 0.0064 - class_label_loss: 0.3254 - bounding_box_accuracy: 0.7940 - class_label_accuracy: 0.8492 - val_loss: 0.6558 - val_bounding_box_loss: 0.0104 - val_class_label_loss: 0.6454 - val_bounding_box_accuracy: 0.6867 - val_class_label_accuracy: 0.7631\n"
     ]
    }
   ],
   "source": [
    "ssd.model_fit(\n",
    "    train_images=train_images,\n",
    "    train_targets=train_targets,\n",
    "    val_images=val_images,\n",
    "    val_targets=val_targets,\n",
    "    epochs=15,\n",
    "    batch_size=50,\n",
    ")"
   ]
  },
  {
   "cell_type": "code",
   "execution_count": 18,
   "metadata": {},
   "outputs": [],
   "source": [
    "ssd.model.save(\"../models/output/model.h5\")\n",
    "ssd.model.save_weights(\"../models/output/model_weight.h5\")"
   ]
  },
  {
   "cell_type": "code",
   "execution_count": null,
   "metadata": {},
   "outputs": [],
   "source": []
  }
 ],
 "metadata": {
  "kernelspec": {
   "display_name": "base",
   "language": "python",
   "name": "python3"
  },
  "language_info": {
   "codemirror_mode": {
    "name": "ipython",
    "version": 3
   },
   "file_extension": ".py",
   "mimetype": "text/x-python",
   "name": "python",
   "nbconvert_exporter": "python",
   "pygments_lexer": "ipython3",
   "version": "3.9.13"
  }
 },
 "nbformat": 4,
 "nbformat_minor": 2
}
