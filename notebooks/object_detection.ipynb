{
 "cells": [
  {
   "cell_type": "code",
   "execution_count": 1,
   "metadata": {},
   "outputs": [],
   "source": [
    "import os\n",
    "from tqdm import tqdm\n",
    "import pandas as pd\n",
<<<<<<< HEAD
=======
<<<<<<< HEAD
>>>>>>> c4278e3329be95dd11857e79fda2d8f5e88c3f19
    "import xml.etree.ElementTree as ET\n",
    "import numpy as np\n",
    "import cv2\n",
    "from sklearn.preprocessing import LabelEncoder, LabelBinarizer\n",
    "from sklearn.model_selection import train_test_split\n",
    "from tensorflow.keras.optimizers import Adam, RMSprop\n",
    "import tensorflow as tf\n",
    "\n",
<<<<<<< HEAD
=======
=======
    "import numpy as np\n",
    "import matplotlib.pyplot as plt\n",
    "from PIL import Image\n",
    "import xml.etree.ElementTree as ET\n",
    "from collections import defaultdict\n",
    "from sklearn.preprocessing import LabelEncoder\n",
    "from sklearn.model_selection import train_test_split\n",
    "import cv2\n",
    "import shutil\n",
    "from random import shuffle\n",
>>>>>>> 13db58ccf13af8329ab59180b91035471d758ea8
>>>>>>> c4278e3329be95dd11857e79fda2d8f5e88c3f19
    "import sys\n",
    "\n",
    "sys.path.append(\"../\")\n",
    "from obj_detection import model"
   ]
  },
  {
   "cell_type": "code",
   "execution_count": 2,
   "metadata": {},
<<<<<<< HEAD
=======
<<<<<<< HEAD
>>>>>>> c4278e3329be95dd11857e79fda2d8f5e88c3f19
   "outputs": [
    {
     "name": "stdout",
     "output_type": "stream",
     "text": [
      "GPU is NOT available\n"
     ]
    }
   ],
   "source": [
    "print(\n",
    "    \"GPU is available\" if tf.test.gpu_device_name() else \"GPU is NOT available\"\n",
    ")\n",
    "if tf.test.gpu_device_name():\n",
    "    physical_devices = tf.config.list_physical_devices(\"GPU\")\n",
    "    tf.config.experimental.set_memory_growth(physical_devices[0], True)"
<<<<<<< HEAD
=======
=======
   "outputs": [],
   "source": [
    "annotations_path = '../data/annotations/'\n",
    "images_path = '../data/images/'"
>>>>>>> 13db58ccf13af8329ab59180b91035471d758ea8
>>>>>>> c4278e3329be95dd11857e79fda2d8f5e88c3f19
   ]
  },
  {
   "cell_type": "code",
   "execution_count": 3,
   "metadata": {},
   "outputs": [],
   "source": [
<<<<<<< HEAD
=======
<<<<<<< HEAD
>>>>>>> c4278e3329be95dd11857e79fda2d8f5e88c3f19
    "annotations_path = \"../data/annotations/\"\n",
    "images_path = \"../data/images/\""
   ]
  },
  {
   "cell_type": "code",
   "execution_count": 4,
   "metadata": {},
   "outputs": [],
   "source": [
<<<<<<< HEAD
=======
=======
>>>>>>> 13db58ccf13af8329ab59180b91035471d758ea8
>>>>>>> c4278e3329be95dd11857e79fda2d8f5e88c3f19
    "annotations = os.listdir(annotations_path)\n",
    "images = os.listdir(images_path)"
   ]
  },
  {
   "cell_type": "code",
<<<<<<< HEAD
   "execution_count": 5,
=======
<<<<<<< HEAD
   "execution_count": 5,
=======
   "execution_count": 4,
>>>>>>> 13db58ccf13af8329ab59180b91035471d758ea8
>>>>>>> c4278e3329be95dd11857e79fda2d8f5e88c3f19
   "metadata": {},
   "outputs": [],
   "source": [
    "img_name_list = []\n",
    "width_list = []\n",
    "height_list = []\n",
    "label_list = []\n",
    "xmin_list = []\n",
    "ymin_list = []\n",
    "xmax_list = []\n",
    "ymax_list = []"
   ]
  },
  {
   "cell_type": "code",
<<<<<<< HEAD
   "execution_count": 6,
=======
<<<<<<< HEAD
   "execution_count": 6,
=======
   "execution_count": 5,
>>>>>>> 13db58ccf13af8329ab59180b91035471d758ea8
>>>>>>> c4278e3329be95dd11857e79fda2d8f5e88c3f19
   "metadata": {},
   "outputs": [
    {
     "name": "stderr",
     "output_type": "stream",
     "text": [
<<<<<<< HEAD
      "100%|██████████| 877/877 [00:00<00:00, 6273.36it/s]\n"
=======
<<<<<<< HEAD
      "100%|██████████| 877/877 [00:08<00:00, 104.75it/s]\n"
=======
      "100%|██████████| 877/877 [00:00<00:00, 2093.97it/s]\n"
>>>>>>> 13db58ccf13af8329ab59180b91035471d758ea8
>>>>>>> c4278e3329be95dd11857e79fda2d8f5e88c3f19
     ]
    }
   ],
   "source": [
    "for i in tqdm(range(len(annotations))):\n",
    "    tree = ET.parse(os.path.join(annotations_path, annotations[i]))\n",
    "    root = tree.getroot()\n",
    "    img_name = root.find(\"filename\").text\n",
    "\n",
    "    size = root.find(\"size\")\n",
    "    width = int(size.find(\"width\").text)\n",
    "    height = int(size.find(\"height\").text)\n",
    "\n",
    "    for group in root.findall(\"object\"):\n",
    "        label = group.find(\"name\").text\n",
    "        bbox = group.find(\"bndbox\")\n",
    "        xmin = int(bbox.find(\"xmin\").text)\n",
    "        ymin = int(bbox.find(\"ymin\").text)\n",
    "        xmax = int(bbox.find(\"xmax\").text)\n",
    "        ymax = int(bbox.find(\"ymax\").text)\n",
    "\n",
    "        img_name_list.append(img_name)\n",
    "        width_list.append(width)\n",
    "        height_list.append(height)\n",
    "        xmin_list.append(xmin)\n",
    "        ymin_list.append(ymin)\n",
    "        xmax_list.append(xmax)\n",
    "        ymax_list.append(ymax)\n",
    "        label_list.append(label)"
   ]
  },
  {
   "cell_type": "code",
<<<<<<< HEAD
   "execution_count": 7,
=======
<<<<<<< HEAD
   "execution_count": 7,
=======
   "execution_count": 6,
>>>>>>> 13db58ccf13af8329ab59180b91035471d758ea8
>>>>>>> c4278e3329be95dd11857e79fda2d8f5e88c3f19
   "metadata": {},
   "outputs": [
    {
     "data": {
      "text/html": [
       "<div>\n",
       "<style scoped>\n",
       "    .dataframe tbody tr th:only-of-type {\n",
       "        vertical-align: middle;\n",
       "    }\n",
       "\n",
       "    .dataframe tbody tr th {\n",
       "        vertical-align: top;\n",
       "    }\n",
       "\n",
       "    .dataframe thead th {\n",
       "        text-align: right;\n",
       "    }\n",
       "</style>\n",
       "<table border=\"1\" class=\"dataframe\">\n",
       "  <thead>\n",
       "    <tr style=\"text-align: right;\">\n",
       "      <th></th>\n",
       "      <th>img_name</th>\n",
       "      <th>width</th>\n",
       "      <th>height</th>\n",
       "      <th>xmin</th>\n",
       "      <th>ymin</th>\n",
       "      <th>xmax</th>\n",
       "      <th>ymax</th>\n",
       "      <th>label</th>\n",
       "    </tr>\n",
       "  </thead>\n",
       "  <tbody>\n",
       "    <tr>\n",
       "      <th>0</th>\n",
       "      <td>road0.png</td>\n",
       "      <td>267</td>\n",
       "      <td>400</td>\n",
       "      <td>98</td>\n",
       "      <td>62</td>\n",
       "      <td>208</td>\n",
       "      <td>232</td>\n",
       "      <td>trafficlight</td>\n",
       "    </tr>\n",
       "    <tr>\n",
       "      <th>1</th>\n",
       "      <td>road1.png</td>\n",
       "      <td>400</td>\n",
       "      <td>283</td>\n",
       "      <td>154</td>\n",
       "      <td>63</td>\n",
       "      <td>258</td>\n",
       "      <td>281</td>\n",
       "      <td>trafficlight</td>\n",
       "    </tr>\n",
       "    <tr>\n",
       "      <th>2</th>\n",
       "      <td>road10.png</td>\n",
       "      <td>400</td>\n",
       "      <td>267</td>\n",
       "      <td>106</td>\n",
       "      <td>3</td>\n",
       "      <td>244</td>\n",
       "      <td>263</td>\n",
       "      <td>trafficlight</td>\n",
       "    </tr>\n",
       "    <tr>\n",
       "      <th>3</th>\n",
       "      <td>road100.png</td>\n",
       "      <td>400</td>\n",
       "      <td>385</td>\n",
       "      <td>35</td>\n",
       "      <td>5</td>\n",
       "      <td>363</td>\n",
       "      <td>326</td>\n",
       "      <td>speedlimit</td>\n",
       "    </tr>\n",
       "    <tr>\n",
       "      <th>4</th>\n",
       "      <td>road101.png</td>\n",
       "      <td>400</td>\n",
       "      <td>200</td>\n",
       "      <td>195</td>\n",
       "      <td>7</td>\n",
       "      <td>392</td>\n",
       "      <td>194</td>\n",
       "      <td>speedlimit</td>\n",
       "    </tr>\n",
       "  </tbody>\n",
       "</table>\n",
       "</div>"
      ],
      "text/plain": [
       "      img_name  width  height  xmin  ymin  xmax  ymax         label\n",
       "0    road0.png    267     400    98    62   208   232  trafficlight\n",
       "1    road1.png    400     283   154    63   258   281  trafficlight\n",
       "2   road10.png    400     267   106     3   244   263  trafficlight\n",
       "3  road100.png    400     385    35     5   363   326    speedlimit\n",
       "4  road101.png    400     200   195     7   392   194    speedlimit"
      ]
     },
<<<<<<< HEAD
     "execution_count": 7,
=======
<<<<<<< HEAD
     "execution_count": 7,
=======
     "execution_count": 6,
>>>>>>> 13db58ccf13af8329ab59180b91035471d758ea8
>>>>>>> c4278e3329be95dd11857e79fda2d8f5e88c3f19
     "metadata": {},
     "output_type": "execute_result"
    }
   ],
   "source": [
    "dataset = pd.DataFrame(\n",
    "    {\n",
    "        \"img_name\": img_name_list,\n",
    "        \"width\": width_list,\n",
    "        \"height\": height_list,\n",
    "        \"xmin\": xmin_list,\n",
    "        \"ymin\": ymin_list,\n",
    "        \"xmax\": xmax_list,\n",
    "        \"ymax\": ymax_list,\n",
    "        \"label\": label_list,\n",
    "    }\n",
    ")\n",
    "dataset.head()"
   ]
  },
  {
   "cell_type": "code",
<<<<<<< HEAD
   "execution_count": 8,
=======
<<<<<<< HEAD
   "execution_count": 8,
=======
   "execution_count": 7,
>>>>>>> 13db58ccf13af8329ab59180b91035471d758ea8
>>>>>>> c4278e3329be95dd11857e79fda2d8f5e88c3f19
   "metadata": {},
   "outputs": [
    {
     "data": {
      "text/plain": [
       "['trafficlight', 'speedlimit', 'crosswalk', 'stop']"
      ]
     },
<<<<<<< HEAD
=======
<<<<<<< HEAD
=======
     "execution_count": 7,
     "metadata": {},
     "output_type": "execute_result"
    }
   ],
   "source": [
    "classes = dataset['label'].unique().tolist()\n",
    "classes"
   ]
  },
  {
   "cell_type": "code",
   "execution_count": 8,
   "metadata": {},
   "outputs": [
    {
     "data": {
      "text/html": [
       "<div>\n",
       "<style scoped>\n",
       "    .dataframe tbody tr th:only-of-type {\n",
       "        vertical-align: middle;\n",
       "    }\n",
       "\n",
       "    .dataframe tbody tr th {\n",
       "        vertical-align: top;\n",
       "    }\n",
       "\n",
       "    .dataframe thead th {\n",
       "        text-align: right;\n",
       "    }\n",
       "</style>\n",
       "<table border=\"1\" class=\"dataframe\">\n",
       "  <thead>\n",
       "    <tr style=\"text-align: right;\">\n",
       "      <th></th>\n",
       "      <th>img_name</th>\n",
       "      <th>width</th>\n",
       "      <th>height</th>\n",
       "      <th>xmin</th>\n",
       "      <th>ymin</th>\n",
       "      <th>xmax</th>\n",
       "      <th>ymax</th>\n",
       "      <th>label</th>\n",
       "      <th>class</th>\n",
       "    </tr>\n",
       "  </thead>\n",
       "  <tbody>\n",
       "    <tr>\n",
       "      <th>0</th>\n",
       "      <td>road0.png</td>\n",
       "      <td>267</td>\n",
       "      <td>400</td>\n",
       "      <td>98</td>\n",
       "      <td>62</td>\n",
       "      <td>208</td>\n",
       "      <td>232</td>\n",
       "      <td>trafficlight</td>\n",
       "      <td>3</td>\n",
       "    </tr>\n",
       "    <tr>\n",
       "      <th>1</th>\n",
       "      <td>road1.png</td>\n",
       "      <td>400</td>\n",
       "      <td>283</td>\n",
       "      <td>154</td>\n",
       "      <td>63</td>\n",
       "      <td>258</td>\n",
       "      <td>281</td>\n",
       "      <td>trafficlight</td>\n",
       "      <td>3</td>\n",
       "    </tr>\n",
       "    <tr>\n",
       "      <th>2</th>\n",
       "      <td>road10.png</td>\n",
       "      <td>400</td>\n",
       "      <td>267</td>\n",
       "      <td>106</td>\n",
       "      <td>3</td>\n",
       "      <td>244</td>\n",
       "      <td>263</td>\n",
       "      <td>trafficlight</td>\n",
       "      <td>3</td>\n",
       "    </tr>\n",
       "    <tr>\n",
       "      <th>3</th>\n",
       "      <td>road100.png</td>\n",
       "      <td>400</td>\n",
       "      <td>385</td>\n",
       "      <td>35</td>\n",
       "      <td>5</td>\n",
       "      <td>363</td>\n",
       "      <td>326</td>\n",
       "      <td>speedlimit</td>\n",
       "      <td>1</td>\n",
       "    </tr>\n",
       "    <tr>\n",
       "      <th>4</th>\n",
       "      <td>road101.png</td>\n",
       "      <td>400</td>\n",
       "      <td>200</td>\n",
       "      <td>195</td>\n",
       "      <td>7</td>\n",
       "      <td>392</td>\n",
       "      <td>194</td>\n",
       "      <td>speedlimit</td>\n",
       "      <td>1</td>\n",
       "    </tr>\n",
       "    <tr>\n",
       "      <th>...</th>\n",
       "      <td>...</td>\n",
       "      <td>...</td>\n",
       "      <td>...</td>\n",
       "      <td>...</td>\n",
       "      <td>...</td>\n",
       "      <td>...</td>\n",
       "      <td>...</td>\n",
       "      <td>...</td>\n",
       "      <td>...</td>\n",
       "    </tr>\n",
       "    <tr>\n",
       "      <th>1239</th>\n",
       "      <td>road95.png</td>\n",
       "      <td>300</td>\n",
       "      <td>400</td>\n",
       "      <td>90</td>\n",
       "      <td>101</td>\n",
       "      <td>268</td>\n",
       "      <td>257</td>\n",
       "      <td>stop</td>\n",
       "      <td>2</td>\n",
       "    </tr>\n",
       "    <tr>\n",
       "      <th>1240</th>\n",
       "      <td>road96.png</td>\n",
       "      <td>400</td>\n",
       "      <td>267</td>\n",
       "      <td>209</td>\n",
       "      <td>58</td>\n",
       "      <td>326</td>\n",
       "      <td>179</td>\n",
       "      <td>stop</td>\n",
       "      <td>2</td>\n",
       "    </tr>\n",
       "    <tr>\n",
       "      <th>1241</th>\n",
       "      <td>road97.png</td>\n",
       "      <td>400</td>\n",
       "      <td>267</td>\n",
       "      <td>42</td>\n",
       "      <td>66</td>\n",
       "      <td>130</td>\n",
       "      <td>154</td>\n",
       "      <td>stop</td>\n",
       "      <td>2</td>\n",
       "    </tr>\n",
       "    <tr>\n",
       "      <th>1242</th>\n",
       "      <td>road98.png</td>\n",
       "      <td>400</td>\n",
       "      <td>267</td>\n",
       "      <td>138</td>\n",
       "      <td>17</td>\n",
       "      <td>376</td>\n",
       "      <td>245</td>\n",
       "      <td>stop</td>\n",
       "      <td>2</td>\n",
       "    </tr>\n",
       "    <tr>\n",
       "      <th>1243</th>\n",
       "      <td>road99.png</td>\n",
       "      <td>267</td>\n",
       "      <td>400</td>\n",
       "      <td>41</td>\n",
       "      <td>35</td>\n",
       "      <td>222</td>\n",
       "      <td>214</td>\n",
       "      <td>stop</td>\n",
       "      <td>2</td>\n",
       "    </tr>\n",
       "  </tbody>\n",
       "</table>\n",
       "<p>1244 rows × 9 columns</p>\n",
       "</div>"
      ],
      "text/plain": [
       "         img_name  width  height  xmin  ymin  xmax  ymax         label  class\n",
       "0       road0.png    267     400    98    62   208   232  trafficlight      3\n",
       "1       road1.png    400     283   154    63   258   281  trafficlight      3\n",
       "2      road10.png    400     267   106     3   244   263  trafficlight      3\n",
       "3     road100.png    400     385    35     5   363   326    speedlimit      1\n",
       "4     road101.png    400     200   195     7   392   194    speedlimit      1\n",
       "...           ...    ...     ...   ...   ...   ...   ...           ...    ...\n",
       "1239   road95.png    300     400    90   101   268   257          stop      2\n",
       "1240   road96.png    400     267   209    58   326   179          stop      2\n",
       "1241   road97.png    400     267    42    66   130   154          stop      2\n",
       "1242   road98.png    400     267   138    17   376   245          stop      2\n",
       "1243   road99.png    267     400    41    35   222   214          stop      2\n",
       "\n",
       "[1244 rows x 9 columns]"
      ]
     },
>>>>>>> 13db58ccf13af8329ab59180b91035471d758ea8
>>>>>>> c4278e3329be95dd11857e79fda2d8f5e88c3f19
     "execution_count": 8,
     "metadata": {},
     "output_type": "execute_result"
    }
   ],
   "source": [
<<<<<<< HEAD
    "classes = dataset[\"label\"].unique().tolist()\n",
    "classes"
=======
<<<<<<< HEAD
    "classes = dataset[\"label\"].unique().tolist()\n",
    "classes"
=======
    "label_encoder = LabelEncoder()\n",
    "dataset['class'] = label_encoder.fit_transform(dataset['label'])\n",
    "dataset"
>>>>>>> 13db58ccf13af8329ab59180b91035471d758ea8
>>>>>>> c4278e3329be95dd11857e79fda2d8f5e88c3f19
   ]
  },
  {
   "cell_type": "code",
   "execution_count": 9,
   "metadata": {},
<<<<<<< HEAD
   "outputs": [],
   "source": [
    "label_encoder = LabelBinarizer()"
=======
<<<<<<< HEAD
   "outputs": [],
   "source": [
    "label_encoder = LabelBinarizer()"
=======
   "outputs": [
    {
     "data": {
      "text/html": [
       "<div>\n",
       "<style scoped>\n",
       "    .dataframe tbody tr th:only-of-type {\n",
       "        vertical-align: middle;\n",
       "    }\n",
       "\n",
       "    .dataframe tbody tr th {\n",
       "        vertical-align: top;\n",
       "    }\n",
       "\n",
       "    .dataframe thead th {\n",
       "        text-align: right;\n",
       "    }\n",
       "</style>\n",
       "<table border=\"1\" class=\"dataframe\">\n",
       "  <thead>\n",
       "    <tr style=\"text-align: right;\">\n",
       "      <th></th>\n",
       "      <th>img_name</th>\n",
       "      <th>width</th>\n",
       "      <th>height</th>\n",
       "      <th>xmin</th>\n",
       "      <th>ymin</th>\n",
       "      <th>xmax</th>\n",
       "      <th>ymax</th>\n",
       "      <th>class</th>\n",
       "    </tr>\n",
       "  </thead>\n",
       "  <tbody>\n",
       "    <tr>\n",
       "      <th>0</th>\n",
       "      <td>road0.png</td>\n",
       "      <td>267</td>\n",
       "      <td>400</td>\n",
       "      <td>98</td>\n",
       "      <td>62</td>\n",
       "      <td>208</td>\n",
       "      <td>232</td>\n",
       "      <td>3</td>\n",
       "    </tr>\n",
       "    <tr>\n",
       "      <th>1</th>\n",
       "      <td>road1.png</td>\n",
       "      <td>400</td>\n",
       "      <td>283</td>\n",
       "      <td>154</td>\n",
       "      <td>63</td>\n",
       "      <td>258</td>\n",
       "      <td>281</td>\n",
       "      <td>3</td>\n",
       "    </tr>\n",
       "    <tr>\n",
       "      <th>2</th>\n",
       "      <td>road10.png</td>\n",
       "      <td>400</td>\n",
       "      <td>267</td>\n",
       "      <td>106</td>\n",
       "      <td>3</td>\n",
       "      <td>244</td>\n",
       "      <td>263</td>\n",
       "      <td>3</td>\n",
       "    </tr>\n",
       "    <tr>\n",
       "      <th>3</th>\n",
       "      <td>road100.png</td>\n",
       "      <td>400</td>\n",
       "      <td>385</td>\n",
       "      <td>35</td>\n",
       "      <td>5</td>\n",
       "      <td>363</td>\n",
       "      <td>326</td>\n",
       "      <td>1</td>\n",
       "    </tr>\n",
       "    <tr>\n",
       "      <th>4</th>\n",
       "      <td>road101.png</td>\n",
       "      <td>400</td>\n",
       "      <td>200</td>\n",
       "      <td>195</td>\n",
       "      <td>7</td>\n",
       "      <td>392</td>\n",
       "      <td>194</td>\n",
       "      <td>1</td>\n",
       "    </tr>\n",
       "  </tbody>\n",
       "</table>\n",
       "</div>"
      ],
      "text/plain": [
       "      img_name  width  height  xmin  ymin  xmax  ymax  class\n",
       "0    road0.png    267     400    98    62   208   232      3\n",
       "1    road1.png    400     283   154    63   258   281      3\n",
       "2   road10.png    400     267   106     3   244   263      3\n",
       "3  road100.png    400     385    35     5   363   326      1\n",
       "4  road101.png    400     200   195     7   392   194      1"
      ]
     },
     "execution_count": 9,
     "metadata": {},
     "output_type": "execute_result"
    }
   ],
   "source": [
    "preprocessed_df = dataset.drop(\"label\", axis=1)\n",
    "preprocessed_df.head()"
>>>>>>> 13db58ccf13af8329ab59180b91035471d758ea8
>>>>>>> c4278e3329be95dd11857e79fda2d8f5e88c3f19
   ]
  },
  {
   "cell_type": "code",
   "execution_count": 10,
   "metadata": {},
   "outputs": [],
   "source": [
    "images = []\n",
    "labels = []\n",
<<<<<<< HEAD
=======
<<<<<<< HEAD
>>>>>>> c4278e3329be95dd11857e79fda2d8f5e88c3f19
    "bboxes = []\n",
    "for index, row in dataset.iterrows():\n",
    "    img_path = os.path.join(images_path, row[\"img_name\"])\n",
    "    img = cv2.imread(img_path)\n",
    "    x_scale = 224.0 / int(row[\"width\"])\n",
    "    y_scale = 224.0 / int(row[\"height\"])\n",
    "    img = cv2.resize(img, (224, 224))\n",
    "    images.append(img)\n",
    "\n",
    "    xmin = int(row[\"xmin\"] * x_scale) / 224.0\n",
    "    ymin = int(row[\"ymin\"] * y_scale) / 224.0\n",
    "    xmax = int(row[\"xmax\"] * x_scale) / 224.0\n",
    "    ymax = int(row[\"ymax\"] * y_scale) / 224.0\n",
    "    bboxes.append((xmin, ymin, xmax, ymax))\n",
    "    labels.append(row[\"label\"])"
<<<<<<< HEAD
=======
=======
    "for index, row in preprocessed_df.iterrows():\n",
    "    img_path = os.path.join(images_path, row[\"img_name\"])\n",
    "    img = cv2.imread(img_path)\n",
    "    x_scale = 300 / img.shape[1]\n",
    "    y_scale = 300 / img.shape[0]\n",
    "    img = cv2.resize(img, (300, 300))\n",
    "    img = img / 255.0\n",
    "    images.append(img)\n",
    "\n",
    "    xmin = int(row[\"xmin\"] * x_scale) / 300\n",
    "    ymin = int(row[\"ymin\"] * y_scale) / 300\n",
    "    xmax = int(row[\"xmax\"] * x_scale) / 300\n",
    "    ymax = int(row[\"ymax\"] * y_scale) / 300\n",
    "    labels.append({\"bbox\": [xmin, ymin, xmax, ymax], \"label\": row[\"class\"]})"
>>>>>>> 13db58ccf13af8329ab59180b91035471d758ea8
>>>>>>> c4278e3329be95dd11857e79fda2d8f5e88c3f19
   ]
  },
  {
   "cell_type": "code",
   "execution_count": 11,
   "metadata": {},
   "outputs": [],
   "source": [
<<<<<<< HEAD
    "images = np.array(images, dtype=\"float32\") / 255.0\n",
    "labels = np.array(labels)\n",
    "bboxes = np.array(bboxes, dtype=\"float32\")\n",
    "labels = label_encoder.fit_transform(labels)"
=======
<<<<<<< HEAD
    "images = np.array(images, dtype=\"float32\") / 255.0\n",
    "labels = np.array(labels)\n",
    "bboxes = np.array(bboxes, dtype=\"float32\")\n",
    "\n",
    "lb = LabelBinarizer()\n",
    "labels = lb.fit_transform(labels)"
=======
    "(\n",
    "    train_images,\n",
    "    val_images,\n",
    "    train_labels,\n",
    "    val_labels,\n",
    ") = train_test_split(images, labels, test_size=0.2, random_state=42)"
>>>>>>> 13db58ccf13af8329ab59180b91035471d758ea8
>>>>>>> c4278e3329be95dd11857e79fda2d8f5e88c3f19
   ]
  },
  {
   "cell_type": "code",
   "execution_count": 12,
   "metadata": {},
   "outputs": [],
   "source": [
<<<<<<< HEAD
=======
<<<<<<< HEAD
>>>>>>> c4278e3329be95dd11857e79fda2d8f5e88c3f19
    "(\n",
    "    train_images,\n",
    "    val_images,\n",
    "    train_bboxes,\n",
    "    val_bboxes,\n",
    "    train_labels,\n",
    "    val_labels,\n",
<<<<<<< HEAD
    ") = train_test_split(images, bboxes, labels, test_size=0.2, random_state=12)"
=======
    ") = train_test_split(images, bboxes, labels, test_size=0.2, random_state=42)"
=======
    "ssd = model.SSD_Model(len(classes), (300, 300, 3))"
>>>>>>> 13db58ccf13af8329ab59180b91035471d758ea8
>>>>>>> c4278e3329be95dd11857e79fda2d8f5e88c3f19
   ]
  },
  {
   "cell_type": "code",
   "execution_count": 13,
   "metadata": {},
<<<<<<< HEAD
=======
<<<<<<< HEAD
>>>>>>> c4278e3329be95dd11857e79fda2d8f5e88c3f19
   "outputs": [],
   "source": [
    "losses = {\n",
    "    \"class_label\": \"categorical_crossentropy\",\n",
    "    \"bounding_box\": \"mean_squared_error\",\n",
    "}\n",
    "\n",
    "train_targets = {\n",
    "    \"class_label\": train_labels,\n",
    "    \"bounding_box\": train_bboxes,\n",
    "}\n",
    "\n",
    "val_targets = {\n",
    "    \"class_label\": val_labels,\n",
    "    \"bounding_box\": val_bboxes,\n",
    "}"
   ]
  },
  {
   "cell_type": "code",
   "execution_count": 14,
   "metadata": {},
   "outputs": [],
   "source": [
    "base_learning_rate = 0.0001\n",
    "\n",
    "# opt = RMSprop(learning_rate=base_learning_rate)\n",
    "opt = Adam(base_learning_rate)"
   ]
  },
  {
   "cell_type": "code",
   "execution_count": 15,
   "metadata": {},
<<<<<<< HEAD
=======
=======
>>>>>>> 13db58ccf13af8329ab59180b91035471d758ea8
>>>>>>> c4278e3329be95dd11857e79fda2d8f5e88c3f19
   "outputs": [
    {
     "name": "stdout",
     "output_type": "stream",
     "text": [
<<<<<<< HEAD
=======
<<<<<<< HEAD
>>>>>>> c4278e3329be95dd11857e79fda2d8f5e88c3f19
      "Model: \"model\"\n",
      "__________________________________________________________________________________________________\n",
      " Layer (type)                   Output Shape         Param #     Connected to                     \n",
      "==================================================================================================\n",
      " input_images (InputLayer)      [(None, 224, 224, 3  0           []                               \n",
      "                                )]                                                                \n",
      "                                                                                                  \n",
      " block1_conv1 (Conv2D)          (None, 224, 224, 64  1792        ['input_images[0][0]']           \n",
      "                                )                                                                 \n",
      "                                                                                                  \n",
      " block1_conv2 (Conv2D)          (None, 224, 224, 64  36928       ['block1_conv1[0][0]']           \n",
      "                                )                                                                 \n",
      "                                                                                                  \n",
      " block1_pool (MaxPooling2D)     (None, 112, 112, 64  0           ['block1_conv2[0][0]']           \n",
      "                                )                                                                 \n",
      "                                                                                                  \n",
      " block2_conv1 (Conv2D)          (None, 112, 112, 12  73856       ['block1_pool[0][0]']            \n",
      "                                8)                                                                \n",
      "                                                                                                  \n",
      " block2_conv2 (Conv2D)          (None, 112, 112, 12  147584      ['block2_conv1[0][0]']           \n",
      "                                8)                                                                \n",
      "                                                                                                  \n",
      " block2_pool (MaxPooling2D)     (None, 56, 56, 128)  0           ['block2_conv2[0][0]']           \n",
      "                                                                                                  \n",
      " block3_conv1 (Conv2D)          (None, 56, 56, 256)  295168      ['block2_pool[0][0]']            \n",
      "                                                                                                  \n",
      " block3_conv2 (Conv2D)          (None, 56, 56, 256)  590080      ['block3_conv1[0][0]']           \n",
      "                                                                                                  \n",
      " block3_conv3 (Conv2D)          (None, 56, 56, 256)  590080      ['block3_conv2[0][0]']           \n",
      "                                                                                                  \n",
      " block3_pool (MaxPooling2D)     (None, 28, 28, 256)  0           ['block3_conv3[0][0]']           \n",
      "                                                                                                  \n",
      " block4_conv1 (Conv2D)          (None, 28, 28, 512)  1180160     ['block3_pool[0][0]']            \n",
      "                                                                                                  \n",
      " block4_conv2 (Conv2D)          (None, 28, 28, 512)  2359808     ['block4_conv1[0][0]']           \n",
      "                                                                                                  \n",
      " block4_conv3 (Conv2D)          (None, 28, 28, 512)  2359808     ['block4_conv2[0][0]']           \n",
      "                                                                                                  \n",
      " block4_pool (MaxPooling2D)     (None, 14, 14, 512)  0           ['block4_conv3[0][0]']           \n",
      "                                                                                                  \n",
      " block5_conv1 (Conv2D)          (None, 14, 14, 512)  2359808     ['block4_pool[0][0]']            \n",
      "                                                                                                  \n",
      " block5_conv2 (Conv2D)          (None, 14, 14, 512)  2359808     ['block5_conv1[0][0]']           \n",
      "                                                                                                  \n",
      " block5_conv3 (Conv2D)          (None, 14, 14, 512)  2359808     ['block5_conv2[0][0]']           \n",
      "                                                                                                  \n",
      " block5_pool (MaxPooling2D)     (None, 7, 7, 512)    0           ['block5_conv3[0][0]']           \n",
      "                                                                                                  \n",
      " flatten (Flatten)              (None, 25088)        0           ['block5_pool[0][0]']            \n",
      "                                                                                                  \n",
      " dense (Dense)                  (None, 128)          3211392     ['flatten[0][0]']                \n",
      "                                                                                                  \n",
      " dense_4 (Dense)                (None, 512)          12845568    ['flatten[0][0]']                \n",
      "                                                                                                  \n",
      " dense_1 (Dense)                (None, 64)           8256        ['dense[0][0]']                  \n",
      "                                                                                                  \n",
      " dense_5 (Dense)                (None, 512)          262656      ['dense_4[0][0]']                \n",
      "                                                                                                  \n",
      " dropout (Dropout)              (None, 64)           0           ['dense_1[0][0]']                \n",
      "                                                                                                  \n",
      " dropout_2 (Dropout)            (None, 512)          0           ['dense_5[0][0]']                \n",
      "                                                                                                  \n",
      " dense_2 (Dense)                (None, 32)           2080        ['dropout[0][0]']                \n",
      "                                                                                                  \n",
      " dense_6 (Dense)                (None, 256)          131328      ['dropout_2[0][0]']              \n",
      "                                                                                                  \n",
      " dense_3 (Dense)                (None, 16)           528         ['dense_2[0][0]']                \n",
      "                                                                                                  \n",
      " dense_7 (Dense)                (None, 256)          65792       ['dense_6[0][0]']                \n",
      "                                                                                                  \n",
      " dropout_1 (Dropout)            (None, 16)           0           ['dense_3[0][0]']                \n",
      "                                                                                                  \n",
      " dropout_3 (Dropout)            (None, 256)          0           ['dense_7[0][0]']                \n",
      "                                                                                                  \n",
      " bounding_box (Dense)           (None, 4)            68          ['dropout_1[0][0]']              \n",
      "                                                                                                  \n",
      " class_label (Dense)            (None, 4)            1028        ['dropout_3[0][0]']              \n",
      "                                                                                                  \n",
      "==================================================================================================\n",
      "Total params: 31,243,384\n",
      "Trainable params: 16,528,696\n",
      "Non-trainable params: 14,714,688\n",
      "__________________________________________________________________________________________________\n"
     ]
    }
   ],
   "source": [
    "ssd = model.SSD_Model(\n",
    "    num_classes=len(classes),\n",
    "    input_size=(224, 224, 3),\n",
    "    optimizer=opt,\n",
    "    losses=losses,\n",
    ")"
   ]
  },
  {
   "cell_type": "code",
   "execution_count": 16,
   "metadata": {},
   "outputs": [
    {
     "name": "stdout",
     "output_type": "stream",
     "text": [
      "Epoch 1/15\n",
<<<<<<< HEAD
      "40/40 [==============================] - 75s 2s/step - loss: 1.0825 - bounding_box_loss: 0.0324 - class_label_loss: 1.0501 - bounding_box_accuracy: 0.5166 - class_label_accuracy: 0.6131 - val_loss: 0.8038 - val_bounding_box_loss: 0.0253 - val_class_label_loss: 0.7785 - val_bounding_box_accuracy: 0.5261 - val_class_label_accuracy: 0.7711\n",
      "Epoch 2/15\n",
      "40/40 [==============================] - 70s 2s/step - loss: 0.7805 - bounding_box_loss: 0.0276 - class_label_loss: 0.7530 - bounding_box_accuracy: 0.5759 - class_label_accuracy: 0.7216 - val_loss: 0.5484 - val_bounding_box_loss: 0.0225 - val_class_label_loss: 0.5258 - val_bounding_box_accuracy: 0.5221 - val_class_label_accuracy: 0.8474\n",
      "Epoch 3/15\n",
      "40/40 [==============================] - 69s 2s/step - loss: 0.6061 - bounding_box_loss: 0.0252 - class_label_loss: 0.5809 - bounding_box_accuracy: 0.6161 - class_label_accuracy: 0.7910 - val_loss: 0.5749 - val_bounding_box_loss: 0.0213 - val_class_label_loss: 0.5536 - val_bounding_box_accuracy: 0.6948 - val_class_label_accuracy: 0.7992\n",
      "Epoch 4/15\n",
      "40/40 [==============================] - 64s 2s/step - loss: 0.5261 - bounding_box_loss: 0.0234 - class_label_loss: 0.5027 - bounding_box_accuracy: 0.6523 - class_label_accuracy: 0.8181 - val_loss: 0.5280 - val_bounding_box_loss: 0.0201 - val_class_label_loss: 0.5079 - val_bounding_box_accuracy: 0.7068 - val_class_label_accuracy: 0.8112\n",
      "Epoch 5/15\n",
      "40/40 [==============================] - 70s 2s/step - loss: 0.4293 - bounding_box_loss: 0.0219 - class_label_loss: 0.4073 - bounding_box_accuracy: 0.6764 - class_label_accuracy: 0.8332 - val_loss: 0.5485 - val_bounding_box_loss: 0.0199 - val_class_label_loss: 0.5285 - val_bounding_box_accuracy: 0.7189 - val_class_label_accuracy: 0.8072\n",
      "Epoch 6/15\n",
      "40/40 [==============================] - 64s 2s/step - loss: 0.4356 - bounding_box_loss: 0.0207 - class_label_loss: 0.4149 - bounding_box_accuracy: 0.6894 - class_label_accuracy: 0.8312 - val_loss: 0.6652 - val_bounding_box_loss: 0.0194 - val_class_label_loss: 0.6458 - val_bounding_box_accuracy: 0.7068 - val_class_label_accuracy: 0.7831\n",
      "Epoch 7/15\n",
      "40/40 [==============================] - 70s 2s/step - loss: 0.4051 - bounding_box_loss: 0.0201 - class_label_loss: 0.3850 - bounding_box_accuracy: 0.7236 - class_label_accuracy: 0.8291 - val_loss: 0.6510 - val_bounding_box_loss: 0.0188 - val_class_label_loss: 0.6322 - val_bounding_box_accuracy: 0.6948 - val_class_label_accuracy: 0.7831\n",
      "Epoch 8/15\n",
      "40/40 [==============================] - 69s 2s/step - loss: 0.3641 - bounding_box_loss: 0.0197 - class_label_loss: 0.3444 - bounding_box_accuracy: 0.7015 - class_label_accuracy: 0.8492 - val_loss: 0.6725 - val_bounding_box_loss: 0.0191 - val_class_label_loss: 0.6535 - val_bounding_box_accuracy: 0.6305 - val_class_label_accuracy: 0.7631\n",
      "Epoch 9/15\n",
      "40/40 [==============================] - 67s 2s/step - loss: 0.3758 - bounding_box_loss: 0.0191 - class_label_loss: 0.3567 - bounding_box_accuracy: 0.6995 - class_label_accuracy: 0.8412 - val_loss: 0.6284 - val_bounding_box_loss: 0.0188 - val_class_label_loss: 0.6095 - val_bounding_box_accuracy: 0.7028 - val_class_label_accuracy: 0.7992\n",
      "Epoch 10/15\n",
      "40/40 [==============================] - 63s 2s/step - loss: 0.3529 - bounding_box_loss: 0.0189 - class_label_loss: 0.3340 - bounding_box_accuracy: 0.7005 - class_label_accuracy: 0.8382 - val_loss: 0.6660 - val_bounding_box_loss: 0.0185 - val_class_label_loss: 0.6474 - val_bounding_box_accuracy: 0.7390 - val_class_label_accuracy: 0.7711\n",
      "Epoch 11/15\n",
      "40/40 [==============================] - 60s 2s/step - loss: 0.3349 - bounding_box_loss: 0.0178 - class_label_loss: 0.3171 - bounding_box_accuracy: 0.7186 - class_label_accuracy: 0.8412 - val_loss: 0.7014 - val_bounding_box_loss: 0.0187 - val_class_label_loss: 0.6828 - val_bounding_box_accuracy: 0.7068 - val_class_label_accuracy: 0.7831\n",
      "Epoch 12/15\n",
      "40/40 [==============================] - 61s 2s/step - loss: 0.3430 - bounding_box_loss: 0.0181 - class_label_loss: 0.3249 - bounding_box_accuracy: 0.7075 - class_label_accuracy: 0.8442 - val_loss: 0.6711 - val_bounding_box_loss: 0.0187 - val_class_label_loss: 0.6524 - val_bounding_box_accuracy: 0.6948 - val_class_label_accuracy: 0.7631\n",
      "Epoch 13/15\n",
      "40/40 [==============================] - 60s 2s/step - loss: 0.3555 - bounding_box_loss: 0.0169 - class_label_loss: 0.3385 - bounding_box_accuracy: 0.7025 - class_label_accuracy: 0.8432 - val_loss: 0.6805 - val_bounding_box_loss: 0.0187 - val_class_label_loss: 0.6618 - val_bounding_box_accuracy: 0.7108 - val_class_label_accuracy: 0.7952\n",
      "Epoch 14/15\n",
      "40/40 [==============================] - 61s 2s/step - loss: 0.3398 - bounding_box_loss: 0.0168 - class_label_loss: 0.3231 - bounding_box_accuracy: 0.7256 - class_label_accuracy: 0.8462 - val_loss: 0.6840 - val_bounding_box_loss: 0.0188 - val_class_label_loss: 0.6651 - val_bounding_box_accuracy: 0.7028 - val_class_label_accuracy: 0.7430\n",
      "Epoch 15/15\n",
      "40/40 [==============================] - 61s 2s/step - loss: 0.3407 - bounding_box_loss: 0.0175 - class_label_loss: 0.3232 - bounding_box_accuracy: 0.7276 - class_label_accuracy: 0.8422 - val_loss: 0.6486 - val_bounding_box_loss: 0.0189 - val_class_label_loss: 0.6297 - val_bounding_box_accuracy: 0.6827 - val_class_label_accuracy: 0.7912\n"
=======
      "40/40 [==============================] - 66s 2s/step - loss: 1.2792 - bounding_box_loss: 0.0422 - class_label_loss: 1.2369 - bounding_box_accuracy: 0.3487 - class_label_accuracy: 0.5698 - val_loss: 0.9003 - val_bounding_box_loss: 0.0274 - val_class_label_loss: 0.8729 - val_bounding_box_accuracy: 0.5141 - val_class_label_accuracy: 0.6586\n",
      "Epoch 2/15\n",
      "40/40 [==============================] - 61s 2s/step - loss: 0.7227 - bounding_box_loss: 0.0278 - class_label_loss: 0.6949 - bounding_box_accuracy: 0.4362 - class_label_accuracy: 0.7457 - val_loss: 0.8142 - val_bounding_box_loss: 0.0261 - val_class_label_loss: 0.7881 - val_bounding_box_accuracy: 0.6145 - val_class_label_accuracy: 0.6948\n",
      "Epoch 3/15\n",
      "40/40 [==============================] - 62s 2s/step - loss: 0.5642 - bounding_box_loss: 0.0248 - class_label_loss: 0.5394 - bounding_box_accuracy: 0.5960 - class_label_accuracy: 0.8000 - val_loss: 1.2154 - val_bounding_box_loss: 0.0240 - val_class_label_loss: 1.1915 - val_bounding_box_accuracy: 0.6747 - val_class_label_accuracy: 0.6867\n",
      "Epoch 4/15\n",
      "40/40 [==============================] - 59s 1s/step - loss: 0.4960 - bounding_box_loss: 0.0223 - class_label_loss: 0.4737 - bounding_box_accuracy: 0.6101 - class_label_accuracy: 0.8281 - val_loss: 0.9804 - val_bounding_box_loss: 0.0227 - val_class_label_loss: 0.9577 - val_bounding_box_accuracy: 0.6667 - val_class_label_accuracy: 0.6546\n",
      "Epoch 5/15\n",
      "40/40 [==============================] - 60s 2s/step - loss: 0.4181 - bounding_box_loss: 0.0195 - class_label_loss: 0.3986 - bounding_box_accuracy: 0.6302 - class_label_accuracy: 0.8573 - val_loss: 1.1732 - val_bounding_box_loss: 0.0234 - val_class_label_loss: 1.1498 - val_bounding_box_accuracy: 0.6426 - val_class_label_accuracy: 0.7149\n",
      "Epoch 6/15\n",
      "40/40 [==============================] - 58s 1s/step - loss: 0.3918 - bounding_box_loss: 0.0192 - class_label_loss: 0.3727 - bounding_box_accuracy: 0.6673 - class_label_accuracy: 0.8623 - val_loss: 1.0804 - val_bounding_box_loss: 0.0216 - val_class_label_loss: 1.0588 - val_bounding_box_accuracy: 0.6586 - val_class_label_accuracy: 0.6908\n",
      "Epoch 7/15\n",
      "40/40 [==============================] - 58s 1s/step - loss: 0.3345 - bounding_box_loss: 0.0182 - class_label_loss: 0.3163 - bounding_box_accuracy: 0.7136 - class_label_accuracy: 0.8513 - val_loss: 1.1534 - val_bounding_box_loss: 0.0234 - val_class_label_loss: 1.1300 - val_bounding_box_accuracy: 0.6908 - val_class_label_accuracy: 0.6386\n",
      "Epoch 8/15\n",
      "40/40 [==============================] - 71s 2s/step - loss: 0.3688 - bounding_box_loss: 0.0171 - class_label_loss: 0.3518 - bounding_box_accuracy: 0.7055 - class_label_accuracy: 0.8503 - val_loss: 1.0371 - val_bounding_box_loss: 0.0224 - val_class_label_loss: 1.0146 - val_bounding_box_accuracy: 0.6586 - val_class_label_accuracy: 0.6627\n",
      "Epoch 9/15\n",
      "40/40 [==============================] - 69s 2s/step - loss: 0.3148 - bounding_box_loss: 0.0165 - class_label_loss: 0.2983 - bounding_box_accuracy: 0.7035 - class_label_accuracy: 0.8583 - val_loss: 1.0892 - val_bounding_box_loss: 0.0228 - val_class_label_loss: 1.0664 - val_bounding_box_accuracy: 0.7108 - val_class_label_accuracy: 0.6827\n",
      "Epoch 10/15\n",
      "40/40 [==============================] - 68s 2s/step - loss: 0.2983 - bounding_box_loss: 0.0162 - class_label_loss: 0.2821 - bounding_box_accuracy: 0.7126 - class_label_accuracy: 0.8593 - val_loss: 1.4029 - val_bounding_box_loss: 0.0233 - val_class_label_loss: 1.3797 - val_bounding_box_accuracy: 0.6867 - val_class_label_accuracy: 0.6827\n",
      "Epoch 11/15\n",
      "40/40 [==============================] - 69s 2s/step - loss: 0.2816 - bounding_box_loss: 0.0168 - class_label_loss: 0.2648 - bounding_box_accuracy: 0.7216 - class_label_accuracy: 0.8553 - val_loss: 0.8959 - val_bounding_box_loss: 0.0238 - val_class_label_loss: 0.8721 - val_bounding_box_accuracy: 0.6827 - val_class_label_accuracy: 0.6988\n",
      "Epoch 12/15\n",
      "40/40 [==============================] - 70s 2s/step - loss: 0.2753 - bounding_box_loss: 0.0151 - class_label_loss: 0.2602 - bounding_box_accuracy: 0.7357 - class_label_accuracy: 0.8633 - val_loss: 1.5008 - val_bounding_box_loss: 0.0237 - val_class_label_loss: 1.4771 - val_bounding_box_accuracy: 0.6988 - val_class_label_accuracy: 0.6466\n",
      "Epoch 13/15\n",
      "40/40 [==============================] - 65s 2s/step - loss: 0.2853 - bounding_box_loss: 0.0153 - class_label_loss: 0.2700 - bounding_box_accuracy: 0.7347 - class_label_accuracy: 0.8633 - val_loss: 1.6350 - val_bounding_box_loss: 0.0246 - val_class_label_loss: 1.6104 - val_bounding_box_accuracy: 0.6908 - val_class_label_accuracy: 0.6787\n",
      "Epoch 14/15\n",
      "40/40 [==============================] - 67s 2s/step - loss: 0.2507 - bounding_box_loss: 0.0143 - class_label_loss: 0.2364 - bounding_box_accuracy: 0.7457 - class_label_accuracy: 0.8714 - val_loss: 1.8290 - val_bounding_box_loss: 0.0237 - val_class_label_loss: 1.8053 - val_bounding_box_accuracy: 0.6908 - val_class_label_accuracy: 0.6586\n",
      "Epoch 15/15\n",
      "40/40 [==============================] - 62s 2s/step - loss: 0.2448 - bounding_box_loss: 0.0147 - class_label_loss: 0.2302 - bounding_box_accuracy: 0.7337 - class_label_accuracy: 0.8693 - val_loss: 1.6553 - val_bounding_box_loss: 0.0237 - val_class_label_loss: 1.6316 - val_bounding_box_accuracy: 0.6908 - val_class_label_accuracy: 0.6908\n"
>>>>>>> c4278e3329be95dd11857e79fda2d8f5e88c3f19
     ]
    },
    {
     "name": "stderr",
     "output_type": "stream",
     "text": [
      "WARNING:absl:Found untraced functions such as _jit_compiled_convolution_op, _jit_compiled_convolution_op, _jit_compiled_convolution_op, _jit_compiled_convolution_op, _jit_compiled_convolution_op while saving (showing 5 of 13). These functions will not be directly callable after loading.\n"
     ]
    },
    {
     "name": "stdout",
     "output_type": "stream",
     "text": [
<<<<<<< HEAD
      "INFO:tensorflow:Assets written to: ../models/sign_dectection_model.pb\\assets\n"
=======
      "INFO:tensorflow:Assets written to: ../models/sign_dectection_model.pkt\\assets\n"
>>>>>>> c4278e3329be95dd11857e79fda2d8f5e88c3f19
     ]
    },
    {
     "name": "stderr",
     "output_type": "stream",
     "text": [
<<<<<<< HEAD
      "INFO:tensorflow:Assets written to: ../models/sign_dectection_model.pb\\assets\n"
=======
      "INFO:tensorflow:Assets written to: ../models/sign_dectection_model.pkt\\assets\n"
=======
      "Epoch 1/20\n"
     ]
    },
    {
     "ename": "",
     "evalue": "",
     "output_type": "error",
     "traceback": [
      "\u001b[1;31mThe Kernel crashed while executing code in the the current cell or a previous cell. Please review the code in the cell(s) to identify a possible cause of the failure. Click <a href='https://aka.ms/vscodeJupyterKernelCrash'>here</a> for more info. View Jupyter <a href='command:jupyter.viewOutput'>log</a> for further details."
>>>>>>> 13db58ccf13af8329ab59180b91035471d758ea8
>>>>>>> c4278e3329be95dd11857e79fda2d8f5e88c3f19
     ]
    }
   ],
   "source": [
    "ssd.model_fit(\n",
    "    train_images=train_images,\n",
<<<<<<< HEAD
=======
<<<<<<< HEAD
>>>>>>> c4278e3329be95dd11857e79fda2d8f5e88c3f19
    "    train_targets=train_targets,\n",
    "    val_images=val_images,\n",
    "    val_targets=val_targets,\n",
    "    epochs=15,\n",
    "    batch_size=25,\n",
<<<<<<< HEAD
=======
=======
    "    train_labels=train_labels,\n",
    "    val_images=val_images,\n",
    "    val_labels=val_labels,\n",
    "    batch_size=128,\n",
>>>>>>> 13db58ccf13af8329ab59180b91035471d758ea8
>>>>>>> c4278e3329be95dd11857e79fda2d8f5e88c3f19
    ")"
   ]
  },
  {
   "cell_type": "code",
<<<<<<< HEAD
   "execution_count": 18,
   "metadata": {},
   "outputs": [],
   "source": [
    "ssd.model.save(\"../models/output/model.h5\")\n",
    "ssd.model.save_weights(\"../models/output/model_weight.h5\")"
   ]
  },
  {
   "cell_type": "code",
=======
>>>>>>> c4278e3329be95dd11857e79fda2d8f5e88c3f19
   "execution_count": null,
   "metadata": {},
   "outputs": [],
   "source": []
  }
 ],
 "metadata": {
  "kernelspec": {
   "display_name": "base",
   "language": "python",
   "name": "python3"
  },
  "language_info": {
   "codemirror_mode": {
    "name": "ipython",
    "version": 3
   },
   "file_extension": ".py",
   "mimetype": "text/x-python",
   "name": "python",
   "nbconvert_exporter": "python",
   "pygments_lexer": "ipython3",
   "version": "3.9.13"
  }
 },
 "nbformat": 4,
 "nbformat_minor": 2
}
