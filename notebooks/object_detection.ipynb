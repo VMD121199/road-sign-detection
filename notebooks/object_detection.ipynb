{
 "cells": [
  {
   "cell_type": "code",
   "execution_count": 1,
   "metadata": {},
   "outputs": [],
   "source": [
    "import os\n",
    "from tqdm import tqdm\n",
    "import pandas as pd\n",
    "import xml.etree.ElementTree as ET\n",
    "import numpy as np\n",
    "import cv2\n",
    "from sklearn.preprocessing import LabelEncoder, LabelBinarizer\n",
    "from sklearn.model_selection import train_test_split\n",
    "from tensorflow.keras.optimizers import Adam, RMSprop\n",
    "import tensorflow as tf\n",
    "\n",
    "import sys\n",
    "\n",
    "sys.path.append(\"../\")\n",
    "from obj_detection import model"
   ]
  },
  {
   "cell_type": "code",
   "execution_count": 2,
   "metadata": {},
   "outputs": [
    {
     "name": "stdout",
     "output_type": "stream",
     "text": [
      "GPU is NOT available\n"
     ]
    }
   ],
   "source": [
    "print(\n",
    "    \"GPU is available\" if tf.test.gpu_device_name() else \"GPU is NOT available\"\n",
    ")\n",
    "if tf.test.gpu_device_name():\n",
    "    physical_devices = tf.config.list_physical_devices(\"GPU\")\n",
    "    tf.config.experimental.set_memory_growth(physical_devices[0], True)"
   ]
  },
  {
   "cell_type": "code",
   "execution_count": 3,
   "metadata": {},
   "outputs": [],
   "source": [
    "annotations_path = \"../data/annotations/\"\n",
    "images_path = \"../data/images/\""
   ]
  },
  {
   "cell_type": "code",
   "execution_count": 4,
   "metadata": {},
   "outputs": [],
   "source": [
    "annotations = os.listdir(annotations_path)\n",
    "images = os.listdir(images_path)"
   ]
  },
  {
   "cell_type": "code",
   "execution_count": 5,
   "metadata": {},
   "outputs": [],
   "source": [
    "img_name_list = []\n",
    "width_list = []\n",
    "height_list = []\n",
    "label_list = []\n",
    "xmin_list = []\n",
    "ymin_list = []\n",
    "xmax_list = []\n",
    "ymax_list = []"
   ]
  },
  {
   "cell_type": "code",
   "execution_count": 6,
   "metadata": {},
   "outputs": [
    {
     "name": "stderr",
     "output_type": "stream",
     "text": [
      "100%|██████████| 877/877 [00:08<00:00, 100.38it/s]\n"
     ]
    }
   ],
   "source": [
    "for i in tqdm(range(len(annotations))):\n",
    "    tree = ET.parse(os.path.join(annotations_path, annotations[i]))\n",
    "    root = tree.getroot()\n",
    "    img_name = root.find(\"filename\").text\n",
    "\n",
    "    size = root.find(\"size\")\n",
    "    width = int(size.find(\"width\").text)\n",
    "    height = int(size.find(\"height\").text)\n",
    "\n",
    "    for group in root.findall(\"object\"):\n",
    "        label = group.find(\"name\").text\n",
    "        bbox = group.find(\"bndbox\")\n",
    "        xmin = int(bbox.find(\"xmin\").text)\n",
    "        ymin = int(bbox.find(\"ymin\").text)\n",
    "        xmax = int(bbox.find(\"xmax\").text)\n",
    "        ymax = int(bbox.find(\"ymax\").text)\n",
    "\n",
    "        img_name_list.append(img_name)\n",
    "        width_list.append(width)\n",
    "        height_list.append(height)\n",
    "        xmin_list.append(xmin)\n",
    "        ymin_list.append(ymin)\n",
    "        xmax_list.append(xmax)\n",
    "        ymax_list.append(ymax)\n",
    "        label_list.append(label)"
   ]
  },
  {
   "cell_type": "code",
   "execution_count": 7,
   "metadata": {},
   "outputs": [
    {
     "data": {
      "text/html": [
       "<div>\n",
       "<style scoped>\n",
       "    .dataframe tbody tr th:only-of-type {\n",
       "        vertical-align: middle;\n",
       "    }\n",
       "\n",
       "    .dataframe tbody tr th {\n",
       "        vertical-align: top;\n",
       "    }\n",
       "\n",
       "    .dataframe thead th {\n",
       "        text-align: right;\n",
       "    }\n",
       "</style>\n",
       "<table border=\"1\" class=\"dataframe\">\n",
       "  <thead>\n",
       "    <tr style=\"text-align: right;\">\n",
       "      <th></th>\n",
       "      <th>img_name</th>\n",
       "      <th>width</th>\n",
       "      <th>height</th>\n",
       "      <th>xmin</th>\n",
       "      <th>ymin</th>\n",
       "      <th>xmax</th>\n",
       "      <th>ymax</th>\n",
       "      <th>label</th>\n",
       "    </tr>\n",
       "  </thead>\n",
       "  <tbody>\n",
       "    <tr>\n",
       "      <th>0</th>\n",
       "      <td>road0.png</td>\n",
       "      <td>267</td>\n",
       "      <td>400</td>\n",
       "      <td>98</td>\n",
       "      <td>62</td>\n",
       "      <td>208</td>\n",
       "      <td>232</td>\n",
       "      <td>trafficlight</td>\n",
       "    </tr>\n",
       "    <tr>\n",
       "      <th>1</th>\n",
       "      <td>road1.png</td>\n",
       "      <td>400</td>\n",
       "      <td>283</td>\n",
       "      <td>154</td>\n",
       "      <td>63</td>\n",
       "      <td>258</td>\n",
       "      <td>281</td>\n",
       "      <td>trafficlight</td>\n",
       "    </tr>\n",
       "    <tr>\n",
       "      <th>2</th>\n",
       "      <td>road10.png</td>\n",
       "      <td>400</td>\n",
       "      <td>267</td>\n",
       "      <td>106</td>\n",
       "      <td>3</td>\n",
       "      <td>244</td>\n",
       "      <td>263</td>\n",
       "      <td>trafficlight</td>\n",
       "    </tr>\n",
       "    <tr>\n",
       "      <th>3</th>\n",
       "      <td>road100.png</td>\n",
       "      <td>400</td>\n",
       "      <td>385</td>\n",
       "      <td>35</td>\n",
       "      <td>5</td>\n",
       "      <td>363</td>\n",
       "      <td>326</td>\n",
       "      <td>speedlimit</td>\n",
       "    </tr>\n",
       "    <tr>\n",
       "      <th>4</th>\n",
       "      <td>road101.png</td>\n",
       "      <td>400</td>\n",
       "      <td>200</td>\n",
       "      <td>195</td>\n",
       "      <td>7</td>\n",
       "      <td>392</td>\n",
       "      <td>194</td>\n",
       "      <td>speedlimit</td>\n",
       "    </tr>\n",
       "  </tbody>\n",
       "</table>\n",
       "</div>"
      ],
      "text/plain": [
       "      img_name  width  height  xmin  ymin  xmax  ymax         label\n",
       "0    road0.png    267     400    98    62   208   232  trafficlight\n",
       "1    road1.png    400     283   154    63   258   281  trafficlight\n",
       "2   road10.png    400     267   106     3   244   263  trafficlight\n",
       "3  road100.png    400     385    35     5   363   326    speedlimit\n",
       "4  road101.png    400     200   195     7   392   194    speedlimit"
      ]
     },
     "execution_count": 7,
     "metadata": {},
     "output_type": "execute_result"
    }
   ],
   "source": [
    "dataset = pd.DataFrame(\n",
    "    {\n",
    "        \"img_name\": img_name_list,\n",
    "        \"width\": width_list,\n",
    "        \"height\": height_list,\n",
    "        \"xmin\": xmin_list,\n",
    "        \"ymin\": ymin_list,\n",
    "        \"xmax\": xmax_list,\n",
    "        \"ymax\": ymax_list,\n",
    "        \"label\": label_list,\n",
    "    }\n",
    ")\n",
    "dataset.head()"
   ]
  },
  {
   "cell_type": "code",
   "execution_count": 8,
   "metadata": {},
   "outputs": [
    {
     "data": {
      "text/plain": [
       "['trafficlight', 'speedlimit', 'crosswalk', 'stop']"
      ]
     },
     "execution_count": 8,
     "metadata": {},
     "output_type": "execute_result"
    }
   ],
   "source": [
    "classes = dataset[\"label\"].unique().tolist()\n",
    "classes"
   ]
  },
  {
   "cell_type": "code",
   "execution_count": 9,
   "metadata": {},
   "outputs": [],
   "source": [
    "label_encoder = LabelBinarizer()"
   ]
  },
  {
   "cell_type": "code",
   "execution_count": 10,
   "metadata": {},
   "outputs": [],
   "source": [
    "images = []\n",
    "labels = []\n",
    "bboxes = []\n",
    "for index, row in dataset.iterrows():\n",
    "    img_path = os.path.join(images_path, row[\"img_name\"])\n",
    "    img = cv2.imread(img_path)\n",
    "    x_scale = 224.0 / int(row[\"width\"])\n",
    "    y_scale = 224.0 / int(row[\"height\"])\n",
    "    img = cv2.resize(img, (224, 224))\n",
    "    images.append(img)\n",
    "\n",
    "    xmin = int(row[\"xmin\"] * x_scale)\n",
    "    ymin = int(row[\"ymin\"] * y_scale)\n",
    "    xmax = int(row[\"xmax\"] * x_scale)\n",
    "    ymax = int(row[\"ymax\"] * y_scale)\n",
    "    bboxes.append((xmin, ymin, xmax, ymax))\n",
    "    labels.append(row[\"label\"])"
   ]
  },
  {
   "cell_type": "code",
   "execution_count": 11,
   "metadata": {},
   "outputs": [],
   "source": [
    "images = np.array(images, dtype=\"float32\") / 255.0\n",
    "labels = np.array(labels)\n",
    "bboxes = np.array(bboxes, dtype=\"float32\")\n",
    "labels = label_encoder.fit_transform(labels)"
   ]
  },
  {
   "cell_type": "code",
   "execution_count": 12,
   "metadata": {},
   "outputs": [],
   "source": [
    "(\n",
    "    train_images,\n",
    "    val_images,\n",
    "    train_bboxes,\n",
    "    val_bboxes,\n",
    "    train_labels,\n",
    "    val_labels,\n",
    ") = train_test_split(images, bboxes, labels, test_size=0.2, random_state=12)"
   ]
  },
  {
   "cell_type": "code",
   "execution_count": 13,
   "metadata": {},
   "outputs": [],
   "source": [
    "losses = {\n",
    "    \"class_label\": \"categorical_crossentropy\",\n",
    "    \"bounding_box\": \"mean_squared_error\",\n",
    "}\n",
    "\n",
    "train_targets = {\n",
    "    \"class_label\": train_labels,\n",
    "    \"bounding_box\": train_bboxes,\n",
    "}\n",
    "\n",
    "val_targets = {\n",
    "    \"class_label\": val_labels,\n",
    "    \"bounding_box\": val_bboxes,\n",
    "}"
   ]
  },
  {
   "cell_type": "code",
   "execution_count": 14,
   "metadata": {},
   "outputs": [],
   "source": [
    "base_learning_rate = 0.0001\n",
    "\n",
    "# opt = RMSprop(learning_rate=base_learning_rate)\n",
    "opt = Adam(base_learning_rate)"
   ]
  },
  {
   "cell_type": "code",
   "execution_count": 15,
   "metadata": {},
   "outputs": [
    {
     "name": "stdout",
     "output_type": "stream",
     "text": [
      "Model: \"model\"\n",
      "__________________________________________________________________________________________________\n",
      " Layer (type)                   Output Shape         Param #     Connected to                     \n",
      "==================================================================================================\n",
      " input_images (InputLayer)      [(None, 224, 224, 3  0           []                               \n",
      "                                )]                                                                \n",
      "                                                                                                  \n",
      " block1_conv1 (Conv2D)          (None, 224, 224, 64  1792        ['input_images[0][0]']           \n",
      "                                )                                                                 \n",
      "                                                                                                  \n",
      " block1_conv2 (Conv2D)          (None, 224, 224, 64  36928       ['block1_conv1[0][0]']           \n",
      "                                )                                                                 \n",
      "                                                                                                  \n",
      " block1_pool (MaxPooling2D)     (None, 112, 112, 64  0           ['block1_conv2[0][0]']           \n",
      "                                )                                                                 \n",
      "                                                                                                  \n",
      " block2_conv1 (Conv2D)          (None, 112, 112, 12  73856       ['block1_pool[0][0]']            \n",
      "                                8)                                                                \n",
      "                                                                                                  \n",
      " block2_conv2 (Conv2D)          (None, 112, 112, 12  147584      ['block2_conv1[0][0]']           \n",
      "                                8)                                                                \n",
      "                                                                                                  \n",
      " block2_pool (MaxPooling2D)     (None, 56, 56, 128)  0           ['block2_conv2[0][0]']           \n",
      "                                                                                                  \n",
      " block3_conv1 (Conv2D)          (None, 56, 56, 256)  295168      ['block2_pool[0][0]']            \n",
      "                                                                                                  \n",
      " block3_conv2 (Conv2D)          (None, 56, 56, 256)  590080      ['block3_conv1[0][0]']           \n",
      "                                                                                                  \n",
      " block3_conv3 (Conv2D)          (None, 56, 56, 256)  590080      ['block3_conv2[0][0]']           \n",
      "                                                                                                  \n",
      " block3_pool (MaxPooling2D)     (None, 28, 28, 256)  0           ['block3_conv3[0][0]']           \n",
      "                                                                                                  \n",
      " block4_conv1 (Conv2D)          (None, 28, 28, 512)  1180160     ['block3_pool[0][0]']            \n",
      "                                                                                                  \n",
      " block4_conv2 (Conv2D)          (None, 28, 28, 512)  2359808     ['block4_conv1[0][0]']           \n",
      "                                                                                                  \n",
      " block4_conv3 (Conv2D)          (None, 28, 28, 512)  2359808     ['block4_conv2[0][0]']           \n",
      "                                                                                                  \n",
      " block4_pool (MaxPooling2D)     (None, 14, 14, 512)  0           ['block4_conv3[0][0]']           \n",
      "                                                                                                  \n",
      " block5_conv1 (Conv2D)          (None, 14, 14, 512)  2359808     ['block4_pool[0][0]']            \n",
      "                                                                                                  \n",
      " block5_conv2 (Conv2D)          (None, 14, 14, 512)  2359808     ['block5_conv1[0][0]']           \n",
      "                                                                                                  \n",
      " block5_conv3 (Conv2D)          (None, 14, 14, 512)  2359808     ['block5_conv2[0][0]']           \n",
      "                                                                                                  \n",
      " block5_pool (MaxPooling2D)     (None, 7, 7, 512)    0           ['block5_conv3[0][0]']           \n",
      "                                                                                                  \n",
      " flatten (Flatten)              (None, 25088)        0           ['block5_pool[0][0]']            \n",
      "                                                                                                  \n",
      " dense (Dense)                  (None, 128)          3211392     ['flatten[0][0]']                \n",
      "                                                                                                  \n",
      " dense_4 (Dense)                (None, 512)          12845568    ['flatten[0][0]']                \n",
      "                                                                                                  \n",
      " dense_1 (Dense)                (None, 64)           8256        ['dense[0][0]']                  \n",
      "                                                                                                  \n",
      " dense_5 (Dense)                (None, 512)          262656      ['dense_4[0][0]']                \n",
      "                                                                                                  \n",
      " dropout (Dropout)              (None, 64)           0           ['dense_1[0][0]']                \n",
      "                                                                                                  \n",
      " dropout_2 (Dropout)            (None, 512)          0           ['dense_5[0][0]']                \n",
      "                                                                                                  \n",
      " dense_2 (Dense)                (None, 32)           2080        ['dropout[0][0]']                \n",
      "                                                                                                  \n",
      " dense_6 (Dense)                (None, 256)          131328      ['dropout_2[0][0]']              \n",
      "                                                                                                  \n",
      " dense_3 (Dense)                (None, 16)           528         ['dense_2[0][0]']                \n",
      "                                                                                                  \n",
      " dense_7 (Dense)                (None, 256)          65792       ['dense_6[0][0]']                \n",
      "                                                                                                  \n",
      " dropout_1 (Dropout)            (None, 16)           0           ['dense_3[0][0]']                \n",
      "                                                                                                  \n",
      " dropout_3 (Dropout)            (None, 256)          0           ['dense_7[0][0]']                \n",
      "                                                                                                  \n",
      " bounding_box (Dense)           (None, 4)            68          ['dropout_1[0][0]']              \n",
      "                                                                                                  \n",
      " class_label (Dense)            (None, 4)            1028        ['dropout_3[0][0]']              \n",
      "                                                                                                  \n",
      "==================================================================================================\n",
      "Total params: 31,243,384\n",
      "Trainable params: 16,528,696\n",
      "Non-trainable params: 14,714,688\n",
      "__________________________________________________________________________________________________\n"
     ]
    }
   ],
   "source": [
    "ssd = model.SSD_Model(\n",
    "    num_classes=len(classes),\n",
    "    input_size=(224, 224, 3),\n",
    "    optimizer=opt,\n",
    "    losses=losses,\n",
    ")"
   ]
  },
  {
   "cell_type": "code",
   "execution_count": 16,
   "metadata": {},
   "outputs": [
    {
     "name": "stdout",
     "output_type": "stream",
     "text": [
      "Epoch 1/15\n",
      "40/40 [==============================] - 71s 2s/step - loss: 1.1191 - bounding_box_loss: 0.0354 - class_label_loss: 1.0837 - bounding_box_accuracy: 0.4543 - class_label_accuracy: 0.6101 - val_loss: 0.8289 - val_bounding_box_loss: 0.0292 - val_class_label_loss: 0.7997 - val_bounding_box_accuracy: 0.4779 - val_class_label_accuracy: 0.6827\n",
      "Epoch 2/15\n",
      "40/40 [==============================] - 60s 2s/step - loss: 0.8433 - bounding_box_loss: 0.0311 - class_label_loss: 0.8122 - bounding_box_accuracy: 0.5156 - class_label_accuracy: 0.6824 - val_loss: 0.5874 - val_bounding_box_loss: 0.0247 - val_class_label_loss: 0.5627 - val_bounding_box_accuracy: 0.5984 - val_class_label_accuracy: 0.8072\n",
      "Epoch 3/15\n",
      "40/40 [==============================] - 60s 2s/step - loss: 0.6687 - bounding_box_loss: 0.0276 - class_label_loss: 0.6411 - bounding_box_accuracy: 0.5638 - class_label_accuracy: 0.7749 - val_loss: 0.5554 - val_bounding_box_loss: 0.0232 - val_class_label_loss: 0.5322 - val_bounding_box_accuracy: 0.6305 - val_class_label_accuracy: 0.8273\n",
      "Epoch 4/15\n",
      "40/40 [==============================] - 61s 2s/step - loss: 0.5382 - bounding_box_loss: 0.0268 - class_label_loss: 0.5114 - bounding_box_accuracy: 0.5749 - class_label_accuracy: 0.8131 - val_loss: 0.5075 - val_bounding_box_loss: 0.0233 - val_class_label_loss: 0.4842 - val_bounding_box_accuracy: 0.6024 - val_class_label_accuracy: 0.8233\n",
      "Epoch 5/15\n",
      "40/40 [==============================] - 59s 1s/step - loss: 0.4831 - bounding_box_loss: 0.0256 - class_label_loss: 0.4575 - bounding_box_accuracy: 0.5779 - class_label_accuracy: 0.8251 - val_loss: 0.5079 - val_bounding_box_loss: 0.0210 - val_class_label_loss: 0.4869 - val_bounding_box_accuracy: 0.6305 - val_class_label_accuracy: 0.8153\n",
      "Epoch 6/15\n",
      "40/40 [==============================] - 63s 2s/step - loss: 0.4025 - bounding_box_loss: 0.0238 - class_label_loss: 0.3787 - bounding_box_accuracy: 0.6141 - class_label_accuracy: 0.8492 - val_loss: 0.6109 - val_bounding_box_loss: 0.0208 - val_class_label_loss: 0.5901 - val_bounding_box_accuracy: 0.6426 - val_class_label_accuracy: 0.7831\n",
      "Epoch 7/15\n",
      "40/40 [==============================] - 60s 1s/step - loss: 0.4339 - bounding_box_loss: 0.0234 - class_label_loss: 0.4105 - bounding_box_accuracy: 0.6181 - class_label_accuracy: 0.8241 - val_loss: 0.5553 - val_bounding_box_loss: 0.0210 - val_class_label_loss: 0.5343 - val_bounding_box_accuracy: 0.6386 - val_class_label_accuracy: 0.8032\n",
      "Epoch 8/15\n",
      "40/40 [==============================] - 64s 2s/step - loss: 0.3791 - bounding_box_loss: 0.0226 - class_label_loss: 0.3565 - bounding_box_accuracy: 0.6472 - class_label_accuracy: 0.8462 - val_loss: 0.6104 - val_bounding_box_loss: 0.0205 - val_class_label_loss: 0.5898 - val_bounding_box_accuracy: 0.6506 - val_class_label_accuracy: 0.8072\n",
      "Epoch 9/15\n",
      "40/40 [==============================] - 61s 2s/step - loss: 0.3612 - bounding_box_loss: 0.0219 - class_label_loss: 0.3393 - bounding_box_accuracy: 0.6462 - class_label_accuracy: 0.8503 - val_loss: 0.6063 - val_bounding_box_loss: 0.0199 - val_class_label_loss: 0.5864 - val_bounding_box_accuracy: 0.7028 - val_class_label_accuracy: 0.7831\n",
      "Epoch 10/15\n",
      "40/40 [==============================] - 59s 1s/step - loss: 0.3572 - bounding_box_loss: 0.0219 - class_label_loss: 0.3353 - bounding_box_accuracy: 0.6332 - class_label_accuracy: 0.8462 - val_loss: 0.6564 - val_bounding_box_loss: 0.0195 - val_class_label_loss: 0.6369 - val_bounding_box_accuracy: 0.6426 - val_class_label_accuracy: 0.7590\n",
      "Epoch 11/15\n",
      "40/40 [==============================] - 67s 2s/step - loss: 0.3620 - bounding_box_loss: 0.0213 - class_label_loss: 0.3407 - bounding_box_accuracy: 0.6623 - class_label_accuracy: 0.8482 - val_loss: 0.5950 - val_bounding_box_loss: 0.0191 - val_class_label_loss: 0.5759 - val_bounding_box_accuracy: 0.6948 - val_class_label_accuracy: 0.7871\n",
      "Epoch 12/15\n",
      "40/40 [==============================] - 66s 2s/step - loss: 0.3335 - bounding_box_loss: 0.0205 - class_label_loss: 0.3130 - bounding_box_accuracy: 0.6894 - class_label_accuracy: 0.8362 - val_loss: 0.6137 - val_bounding_box_loss: 0.0193 - val_class_label_loss: 0.5945 - val_bounding_box_accuracy: 0.6506 - val_class_label_accuracy: 0.7831\n",
      "Epoch 13/15\n",
      "40/40 [==============================] - 60s 2s/step - loss: 0.3249 - bounding_box_loss: 0.0220 - class_label_loss: 0.3028 - bounding_box_accuracy: 0.6472 - class_label_accuracy: 0.8573 - val_loss: 0.6749 - val_bounding_box_loss: 0.0202 - val_class_label_loss: 0.6547 - val_bounding_box_accuracy: 0.6386 - val_class_label_accuracy: 0.7751\n",
      "Epoch 14/15\n",
      "40/40 [==============================] - 69s 2s/step - loss: 0.3382 - bounding_box_loss: 0.0208 - class_label_loss: 0.3174 - bounding_box_accuracy: 0.6844 - class_label_accuracy: 0.8382 - val_loss: 0.6494 - val_bounding_box_loss: 0.0185 - val_class_label_loss: 0.6309 - val_bounding_box_accuracy: 0.7149 - val_class_label_accuracy: 0.7751\n",
      "Epoch 15/15\n",
      "40/40 [==============================] - 63s 2s/step - loss: 0.3408 - bounding_box_loss: 0.0201 - class_label_loss: 0.3207 - bounding_box_accuracy: 0.6915 - class_label_accuracy: 0.8482 - val_loss: 0.6637 - val_bounding_box_loss: 0.0184 - val_class_label_loss: 0.6453 - val_bounding_box_accuracy: 0.6988 - val_class_label_accuracy: 0.7671\n"
     ]
    }
   ],
   "source": [
    "ssd.model_fit(\n",
    "    train_images=train_images,\n",
    "    train_targets=train_targets,\n",
    "    val_images=val_images,\n",
    "    val_targets=val_targets,\n",
    "    epochs=15,\n",
    "    batch_size=25,\n",
    ")"
   ]
  },
  {
   "cell_type": "code",
   "execution_count": 17,
   "metadata": {},
   "outputs": [],
   "source": [
    "ssd.model.save(\"../models/output/model.h5\")\n",
    "ssd.model.save_weights(\"../models/output/model_weight.h5\")"
   ]
  },
  {
   "cell_type": "code",
   "execution_count": null,
   "metadata": {},
   "outputs": [],
   "source": []
  }
 ],
 "metadata": {
  "kernelspec": {
   "display_name": "base",
   "language": "python",
   "name": "python3"
  },
  "language_info": {
   "codemirror_mode": {
    "name": "ipython",
    "version": 3
   },
   "file_extension": ".py",
   "mimetype": "text/x-python",
   "name": "python",
   "nbconvert_exporter": "python",
   "pygments_lexer": "ipython3",
   "version": "3.9.13"
  }
 },
 "nbformat": 4,
 "nbformat_minor": 2
}
